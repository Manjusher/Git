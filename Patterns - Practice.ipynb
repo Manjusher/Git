{
 "cells": [
  {
   "cell_type": "code",
   "execution_count": 1,
   "metadata": {},
   "outputs": [
    {
     "name": "stdout",
     "output_type": "stream",
     "text": [
      "6\n",
      "     *  \n",
      "    * *  \n",
      "   * * *  \n",
      "  * * * *  \n",
      " * * * * *  \n",
      "* * * * * *  \n"
     ]
    }
   ],
   "source": [
    "n=int(input())\n",
    "if n==1:\n",
    "    print('*')\n",
    "else:\n",
    "    for i in range(1,n+1):\n",
    "        print(' '*(n-i),end='')\n",
    "        print(('* ')*i,end=' ')    \n",
    "        print()"
   ]
  },
  {
   "cell_type": "code",
   "execution_count": 2,
   "metadata": {},
   "outputs": [
    {
     "name": "stdout",
     "output_type": "stream",
     "text": [
      "* * * * * \n",
      "* * * * * \n",
      "* * * * * \n",
      "* * * * * \n",
      "* * * * * \n"
     ]
    }
   ],
   "source": [
    "n=5\n",
    "p = ['*'*n for i in range(n)]\n",
    "for i in range(n):\n",
    "    for j in range(n):\n",
    "        print(p[i][j],end=' ')\n",
    "    print()"
   ]
  },
  {
   "cell_type": "code",
   "execution_count": 3,
   "metadata": {},
   "outputs": [
    {
     "name": "stdout",
     "output_type": "stream",
     "text": [
      "6\n",
      "     *  \n",
      "    * *  \n",
      "   * * *  \n",
      "  * * * *  \n",
      " * * * * *  \n",
      "* * * * * *  \n",
      " * * * * *  \n",
      "  * * * *  \n",
      "   * * *  \n",
      "    * *  \n",
      "     *  \n"
     ]
    }
   ],
   "source": [
    "n=int(input())\n",
    "if n==1:\n",
    "    print('*')\n",
    "else:\n",
    "    for i in range(1,n+1):\n",
    "        print(' '*(n-i),end='')\n",
    "        print(('* ')*i,end=' ')    \n",
    "        print()\n",
    "    for i in range(1,n):\n",
    "        print(' '*(i),end='')\n",
    "        print(('* ')*(n-i),end=' ')    \n",
    "\n",
    "        print()"
   ]
  },
  {
   "cell_type": "code",
   "execution_count": 4,
   "metadata": {},
   "outputs": [
    {
     "name": "stdout",
     "output_type": "stream",
     "text": [
      "6\n",
      "------*------\n",
      "-----*-*-----\n",
      "----*-*-*----\n",
      "---*-*-*-*---\n",
      "--*-*-*-*-*--\n",
      "-*-*-*-*-*-*-\n",
      "--*-*-*-*-*--\n",
      "---*-*-*-*---\n",
      "----*-*-*----\n",
      "-----*-*-----\n",
      "------*------\n"
     ]
    }
   ],
   "source": [
    "n=int(input())\n",
    "if n==1:\n",
    "    print('*')\n",
    "else:\n",
    "    for i in range(1,n+1):\n",
    "        print('-'*(n-i+1),end='')\n",
    "        print(('*-')*i,end='')\n",
    "        print('-'*(n-i))\n",
    "    for i in range(1,n):\n",
    "        print('-'*(i+1),end='')\n",
    "        print(('*-')*(n-i),end='')\n",
    "        print('-'*(i))"
   ]
  },
  {
   "cell_type": "code",
   "execution_count": 5,
   "metadata": {},
   "outputs": [
    {
     "name": "stdout",
     "output_type": "stream",
     "text": [
      "----------a----------\n",
      "--------b-a-b--------\n",
      "------c-b-a-b-c------\n",
      "----d-c-b-a-b-c-d----\n",
      "--e-d-c-b-a-b-c-d-e--\n",
      "f-e-d-c-b-a-b-c-d-e-f\n",
      "--e-d-c-b-a-b-c-d-e--\n",
      "----d-c-b-a-b-c-d----\n",
      "------c-b-a-b-c------\n",
      "--------b-a-b--------\n",
      "----------a----------\n"
     ]
    }
   ],
   "source": [
    "n=6\n",
    "import string\n",
    "chars = string.ascii_lowercase\n",
    "my=[]\n",
    "my1=[]\n",
    "char='a'\n",
    "for i in range(1,n+1):\n",
    "    my.append(char)\n",
    "    char=chars[i]+char+chars[i]\n",
    "for i in range(1,n):\n",
    "    my.append(my[n-i-1])\n",
    "for i in range(n):\n",
    "    print('-'*(2*(n-i-1)),end='')\n",
    "    print('-'.join(my[i]),end='')\n",
    "    print('-'*(2*(n-i-1)))\n",
    "\n",
    "for i in range(n-1):\n",
    "    print('-'*(2*(i+1)),end='')\n",
    "    print('-'.join(my[n+i]),end='')\n",
    "    print('-'*(2*(i+1)))"
   ]
  },
  {
   "cell_type": "code",
   "execution_count": 6,
   "metadata": {},
   "outputs": [
    {
     "name": "stdout",
     "output_type": "stream",
     "text": [
      "[1]\n",
      "[1, 1]\n",
      "[1, 2, 1]\n",
      "[1, 3, 3, 1]\n",
      "[1, 4, 6, 4, 1]\n",
      "[1, 5, 10, 10, 5, 1]\n",
      "              1   \n",
      "            1   1   \n",
      "          1   2   1   \n",
      "        1   3   3   1   \n",
      "      1   4   6   4   1   \n",
      "    1   5   10   10   5   1   \n"
     ]
    }
   ],
   "source": [
    "# Pascal's triangle\n",
    "n = 6\n",
    "p = [[0]*i for i in range(1,n+1)]\n",
    "for i in range(n):\n",
    "    for j in range(len(p[i])):\n",
    "        if i==0 or i==j or j==0:\n",
    "            p[i][j]=1\n",
    "        else:\n",
    "            p[i][j]=p[i-1][j-1]+p[i-1][j]\n",
    "for i in p:\n",
    "    print(i)\n",
    "for i in range(n):\n",
    "    print(' '*2*(n-i+1),end='')\n",
    "    for j in range(len(p[i])):\n",
    "        print(p[i][j],end='   ')\n",
    "    print()"
   ]
  }
 ],
 "metadata": {
  "kernelspec": {
   "display_name": "Python 3",
   "language": "python",
   "name": "python3"
  },
  "language_info": {
   "codemirror_mode": {
    "name": "ipython",
    "version": 3
   },
   "file_extension": ".py",
   "mimetype": "text/x-python",
   "name": "python",
   "nbconvert_exporter": "python",
   "pygments_lexer": "ipython3",
   "version": "3.8.5"
  }
 },
 "nbformat": 4,
 "nbformat_minor": 4
}
