{
 "cells": [
  {
   "cell_type": "code",
   "execution_count": 1,
   "metadata": {},
   "outputs": [
    {
     "name": "stdout",
     "output_type": "stream",
     "text": [
      "4567\n",
      "Zero count is  0\n",
      "Even count is  2\n",
      "Odd count is  2\n"
     ]
    }
   ],
   "source": [
    "#Write A program to accept Four digit number from user and count zero, odd and even digits from the entered number.\n",
    "n = input()\n",
    "i = C_0=C_even=C_Odd=0\n",
    "if len(n)==4:\n",
    "    while i<4 and len(n)==4:\n",
    "        if int(n[i])==0:\n",
    "            C_0+=1\n",
    "            i+=1\n",
    "        elif int(n[i])%2==0:\n",
    "            C_even+=1\n",
    "            i+=1\n",
    "        else:\n",
    "            C_Odd+=1\n",
    "            i+=1\n",
    "    print('Zero count is ',C_0)\n",
    "    print('Even count is ',C_even)\n",
    "    print('Odd count is ',C_Odd)\n",
    "else:\n",
    "    print('NA')"
   ]
  },
  {
   "cell_type": "code",
   "execution_count": 2,
   "metadata": {},
   "outputs": [
    {
     "name": "stdout",
     "output_type": "stream",
     "text": [
      "5\n",
      "3\n",
      "5\n",
      "6\n",
      "2\n",
      "22\n",
      "Max_Val is  22\n",
      "Min_Val is  2\n"
     ]
    }
   ],
   "source": [
    "#Write a   program to accept ‘n’ numbers from user , store these numbers into an array. Find out maximum and minimum number \n",
    "#from an Array.\n",
    "n = int(input())\n",
    "mylist = [int(input()) for i in range(n)]\n",
    "print('Max_Val is ', max(mylist))\n",
    "print('Min_Val is ', min(mylist))\n"
   ]
  },
  {
   "cell_type": "code",
   "execution_count": 3,
   "metadata": {},
   "outputs": [
    {
     "name": "stdout",
     "output_type": "stream",
     "text": [
      "5\n",
      "7\n",
      "4\n",
      "89\n",
      "22\n",
      "43\n"
     ]
    },
    {
     "data": {
      "text/plain": [
       "[4, 7, 22, 43, 89]"
      ]
     },
     "execution_count": 3,
     "metadata": {},
     "output_type": "execute_result"
    }
   ],
   "source": [
    "#### Write a  program to accept ‘n’ numbers from user, store these numbers into an array and sort the numbers of an array using function\n",
    "\n",
    "def myarray(n):\n",
    "    n = int(input())\n",
    "    L = []\n",
    "    for i in range(0,n):\n",
    "        ele = int(input())\n",
    "        L.append(ele)\n",
    "    return sorted(L)\n",
    "myarray(n)"
   ]
  },
  {
   "cell_type": "code",
   "execution_count": 10,
   "metadata": {},
   "outputs": [
    {
     "name": "stdout",
     "output_type": "stream",
     "text": [
      "4\n",
      "1111\n",
      "Abc\n",
      "10\n",
      "2222\n",
      "bcd\n",
      "200\n",
      "2224\n",
      "dce\n",
      "550\n",
      "2225\n",
      "efg\n",
      "50\n",
      "Less account balance customers\n",
      "1111 is having balance less than 100 and actual balance is ['Abc', 10]\n",
      "2225 is having balance less than 100 and actual balance is ['efg', 50]\n",
      "None\n"
     ]
    }
   ],
   "source": [
    "#Write a program to accept customer details such as : \n",
    "#Account_no, Name, Balance in Acount, Assume Maximum 20 Customer In the bank. \n",
    "#Write a function to print the account no and name of each customer with balance below rs 100.\n",
    "n=int(input())\n",
    "\n",
    "mydict={}\n",
    "if n<=20:\n",
    "    for i in range(n):\n",
    "        account_no = input()\n",
    "        Name= input()\n",
    "        Balance = int(input())\n",
    "        cust = {account_no : [Name, Balance]}\n",
    "        mydict.update(cust)\n",
    "\n",
    "def acc_bal_lessthan_100(mydict):\n",
    "    print('Less account balance customers')\n",
    "    for key, value in mydict.items():\n",
    "        if value[1]<100:\n",
    "            print(key,'is having balance less than 100 and actual balance is', value)\n",
    "\n",
    "print(acc_bal_lessthan_100(mydict))"
   ]
  },
  {
   "cell_type": "code",
   "execution_count": 12,
   "metadata": {},
   "outputs": [
    {
     "name": "stdout",
     "output_type": "stream",
     "text": [
      "Monica\n",
      "Joey\n",
      "Rachel\n",
      "Chandler\n",
      "Ross\n",
      "['Chandler', 'Joey', 'Monica', 'Rachel', 'Ross']\n"
     ]
    }
   ],
   "source": [
    "#Write a program to accept 5 names from user and store these names into an array sort these array element in alphabetical order.\n",
    "n = 5\n",
    "names = [input() for i in range(n)]\n",
    "print(sorted(names))"
   ]
  },
  {
   "cell_type": "code",
   "execution_count": 13,
   "metadata": {},
   "outputs": [
    {
     "name": "stdout",
     "output_type": "stream",
     "text": [
      "2351\n",
      "11\n"
     ]
    }
   ],
   "source": [
    "#Write a program to calculate the sum of digits of a given number.\n",
    "n = input()\n",
    "l = len(n)\n",
    "i=0\n",
    "S=0\n",
    "while i<l:\n",
    "    S = S+int(n[i])\n",
    "    i+=1\n",
    "print(S)"
   ]
  },
  {
   "cell_type": "code",
   "execution_count": 14,
   "metadata": {},
   "outputs": [
    {
     "name": "stdout",
     "output_type": "stream",
     "text": [
      "a = 100\n",
      "b = 50\n"
     ]
    }
   ],
   "source": [
    "#Write a program to swap the values of two variables using Call by Reference.\n",
    "a=50\n",
    "b=100\n",
    "\n",
    "def swap(a,b):\n",
    "    temp = b\n",
    "    b = a\n",
    "    a = temp\n",
    "    print('a =', a)\n",
    "    print('b =', b)\n",
    "swap(a,b)"
   ]
  },
  {
   "cell_type": "code",
   "execution_count": 15,
   "metadata": {},
   "outputs": [
    {
     "name": "stdout",
     "output_type": "stream",
     "text": [
      "5489\n",
      "14\n"
     ]
    }
   ],
   "source": [
    "#Write a program to calculate the sum of first digit and last digit of a given number\n",
    "n = input()\n",
    "sum_fl = int(n[0])+int(n[-1])\n",
    "print(sum_fl)"
   ]
  },
  {
   "cell_type": "code",
   "execution_count": 16,
   "metadata": {},
   "outputs": [
    {
     "name": "stdout",
     "output_type": "stream",
     "text": [
      "Enter a word\n",
      "Phebee\n",
      "Phb\n"
     ]
    }
   ],
   "source": [
    "#Write a program to accept a string from user , delete all vowels from the string and display the result.\n",
    "print('Enter a word')\n",
    "word = input()\n",
    "vowels = [char for char in 'aeiouAEIOU']\n",
    "res = ''\n",
    "for w in word:\n",
    "    if w not in vowels:\n",
    "        res+=w\n",
    "print(res)"
   ]
  },
  {
   "cell_type": "code",
   "execution_count": 17,
   "metadata": {},
   "outputs": [
    {
     "name": "stdout",
     "output_type": "stream",
     "text": [
      "98\n",
      "Occurance of  b is  2\n"
     ]
    }
   ],
   "source": [
    "#Write a program to accept a string value from the user and accept a char value from the user and and \n",
    "#find out the total occurrence of char value in the string value.\n",
    "import sys\n",
    "str_name = 'aabbccccddddeeeefffflllleeeenfnds'\n",
    "chr_val = int(input())\n",
    "occurance = str_name.count(chr(chr_val))\n",
    "print('Occurance of ', chr(chr_val), 'is ', occurance)\n"
   ]
  },
  {
   "cell_type": "code",
   "execution_count": 18,
   "metadata": {},
   "outputs": [
    {
     "data": {
      "text/plain": [
       "'bus the took Samantha and Mary'"
      ]
     },
     "execution_count": 18,
     "metadata": {},
     "output_type": "execute_result"
    }
   ],
   "source": [
    "#Write a  program to accept a sentence from the user and reverse its each word.\n",
    "input_str = 'Mary and Samantha took the bus'\n",
    "mylist = list(input_str.split())\n",
    "mylist1=[]\n",
    "i=-1\n",
    "while abs(i)<=len(mylist):\n",
    "    mylist1.append(mylist[i])\n",
    "    i=i-1\n",
    "res = ' '.join(mylist1)\n",
    "res\n"
   ]
  },
  {
   "cell_type": "code",
   "execution_count": 19,
   "metadata": {},
   "outputs": [
    {
     "data": {
      "text/plain": [
       "49.9"
      ]
     },
     "execution_count": 19,
     "metadata": {},
     "output_type": "execute_result"
    }
   ],
   "source": [
    "#Write a program to calculate sum of elements of M*N matrix.\n",
    "\n",
    "B = ( [ 1.0, 3.5, 5.4, 7.9 ],\n",
    "      [ 9.0, 2.5, 4.2, 3.6 ],\n",
    "      [ 1.5, 3.2, 1.6, 6.5 ] )\n",
    "S=0\n",
    "for i in range(len(B)):\n",
    "    for j in range (len(B[i])):\n",
    "        S +=B[i][j]\n",
    "        \n",
    "round(S,4)\n",
    "        "
   ]
  },
  {
   "cell_type": "code",
   "execution_count": 20,
   "metadata": {},
   "outputs": [
    {
     "name": "stdout",
     "output_type": "stream",
     "text": [
      "1 : 4\n",
      "2 : 2\n",
      "3 : 2\n",
      "4 : 2\n",
      "5 : 4\n"
     ]
    }
   ],
   "source": [
    "#Write a program to accept ‘n’ numbers from user and store these numbers into an array and count the number of occurrences of each number.\n",
    "A=[1,2,3,1,2,1,1,4,5,3,4,5,5,5]\n",
    "dict1={}\n",
    "for key in A:\n",
    "    if key not in dict1.keys():\n",
    "        new = {key : (A.count(int(key)))}\n",
    "        dict1.update(new)\n",
    "for key, val in dict1.items():\n",
    "    print(key, \":\", val)"
   ]
  },
  {
   "cell_type": "code",
   "execution_count": 21,
   "metadata": {},
   "outputs": [
    {
     "data": {
      "text/plain": [
       "16"
      ]
     },
     "execution_count": 21,
     "metadata": {},
     "output_type": "execute_result"
    }
   ],
   "source": [
    "# Q.15 Write a program to calculate  X(Y+Z) \n",
    "\n",
    "def exp(x,y,z):\n",
    "    return x**(y+z)\n",
    "exp(2,2,2)"
   ]
  },
  {
   "cell_type": "code",
   "execution_count": 22,
   "metadata": {},
   "outputs": [
    {
     "name": "stdout",
     "output_type": "stream",
     "text": [
      "g\n",
      "102 103 104\n"
     ]
    }
   ],
   "source": [
    "#Ques:16\n",
    "#Write a Program to Accept character and display its Ascii value and its Next and Previous Character. \n",
    "import sys\n",
    "c = input()\n",
    "print(ord(c)-1,ord(c),ord(c)+1)"
   ]
  }
 ],
 "metadata": {
  "kernelspec": {
   "display_name": "Python 3",
   "language": "python",
   "name": "python3"
  },
  "language_info": {
   "codemirror_mode": {
    "name": "ipython",
    "version": 3
   },
   "file_extension": ".py",
   "mimetype": "text/x-python",
   "name": "python",
   "nbconvert_exporter": "python",
   "pygments_lexer": "ipython3",
   "version": "3.8.5"
  }
 },
 "nbformat": 4,
 "nbformat_minor": 4
}
